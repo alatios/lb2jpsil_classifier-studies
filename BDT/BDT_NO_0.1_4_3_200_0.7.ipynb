{
 "cells": [
  {
   "cell_type": "code",
   "execution_count": 1,
   "id": "94ed3572",
   "metadata": {},
   "outputs": [],
   "source": [
    "import pandas as pd\n",
    "import numpy as np\n",
    "import matplotlib.pyplot as plt\n",
    "from matplotlib import colors as mcolors\n",
    "import time\n",
    "import joblib\n",
    "import pathlib\n",
    "from scipy import stats\n",
    "from sklearn import ensemble, metrics, inspection"
   ]
  },
  {
   "cell_type": "code",
   "execution_count": 2,
   "id": "3262ec03",
   "metadata": {},
   "outputs": [],
   "source": [
    "## If true, load existing model (does not train a new one)\n",
    "load_existing = False\n",
    "\n",
    "## If true, save the trained model\n",
    "save_model = True\n",
    "\n",
    "## If true, evaluate and save feature importances\n",
    "## Otherwise, load previous results\n",
    "compute_importances = True\n",
    "\n",
    "## Proton and pion momenta\n",
    "## 'VF': use VF momenta\n",
    "## 'DTF': use DTF momenta w/o Lambda m.c.\n",
    "## 'DTFL': use DTF momenta w/ Lambda m.c.\n",
    "## 'NO': don't use any momenta for Lambda daughter particles\n",
    "daughterMomenta = 'NO'"
   ]
  },
  {
   "cell_type": "code",
   "execution_count": 3,
   "id": "e77c2f04",
   "metadata": {},
   "outputs": [],
   "source": [
    "parameters = {\n",
    "    'random_state': 2021,\n",
    "    'learning_rate': 0.1,\n",
    "    'max_depth': 4,\n",
    "    'max_features': 3,\n",
    "    'n_estimators': 200,\n",
    "    'subsample': 0.7\n",
    "}"
   ]
  },
  {
   "cell_type": "code",
   "execution_count": 4,
   "id": "0f7db5e3",
   "metadata": {},
   "outputs": [
    {
     "data": {
      "text/plain": [
       "'BDT_NO_0.1_4_3_200_0.7'"
      ]
     },
     "execution_count": 4,
     "metadata": {},
     "output_type": "execute_result"
    }
   ],
   "source": [
    "fileNamePattern = (\n",
    "    'BDT_'\n",
    "    + daughterMomenta\n",
    "    + '_' + str(parameters['learning_rate'])\n",
    "    + '_' + str(parameters['max_depth'])\n",
    "    + '_' + str(parameters['max_features'])\n",
    "    + '_' + str(parameters['n_estimators'])\n",
    "    + '_' + str(parameters['subsample'])\n",
    ")\n",
    "\n",
    "fileNamePattern"
   ]
  },
  {
   "cell_type": "code",
   "execution_count": 5,
   "id": "40b6d24b",
   "metadata": {},
   "outputs": [],
   "source": [
    "## Create save state directory, if missing\n",
    "savedStateDirectory = './saved_states'\n",
    "pathlib.Path(savedStateDirectory).mkdir(parents=True, exist_ok=True)\n",
    "\n",
    "## Create plots directory, if missing\n",
    "plotsDirectory = '/home/adegenna/2sb-classifier-studies/plots/BDT/' + fileNamePattern\n",
    "pathlib.Path(plotsDirectory).mkdir(parents=True, exist_ok=True)"
   ]
  },
  {
   "cell_type": "markdown",
   "id": "01b50013",
   "metadata": {},
   "source": [
    "# Load data"
   ]
  },
  {
   "cell_type": "code",
   "execution_count": 6,
   "id": "864c02f9",
   "metadata": {},
   "outputs": [
    {
     "data": {
      "text/html": [
       "<div>\n",
       "<style scoped>\n",
       "    .dataframe tbody tr th:only-of-type {\n",
       "        vertical-align: middle;\n",
       "    }\n",
       "\n",
       "    .dataframe tbody tr th {\n",
       "        vertical-align: top;\n",
       "    }\n",
       "\n",
       "    .dataframe thead th {\n",
       "        text-align: right;\n",
       "    }\n",
       "</style>\n",
       "<table border=\"1\" class=\"dataframe\">\n",
       "  <thead>\n",
       "    <tr style=\"text-align: right;\">\n",
       "      <th></th>\n",
       "      <th>p_PT</th>\n",
       "      <th>p_PZ</th>\n",
       "      <th>DTF_FixJPsi_p_PT</th>\n",
       "      <th>DTF_FixJPsi_p_PZ</th>\n",
       "      <th>DTF_FixJPsiLambda_p_PT</th>\n",
       "      <th>DTF_FixJPsiLambda_p_PZ</th>\n",
       "      <th>pim_PT</th>\n",
       "      <th>pim_PZ</th>\n",
       "      <th>DTF_FixJPsi_pim_PT</th>\n",
       "      <th>DTF_FixJPsi_pim_PZ</th>\n",
       "      <th>...</th>\n",
       "      <th>L_VFASPF_CHI2_VDOF</th>\n",
       "      <th>Lb_VFASPF_CHI2_VDOF</th>\n",
       "      <th>L_BPVIPCHI2</th>\n",
       "      <th>Lb_BPVIPCHI2</th>\n",
       "      <th>L_BPVVDCHI2</th>\n",
       "      <th>Lb_BPVVDCHI2</th>\n",
       "      <th>DTF_FixJPsi_status</th>\n",
       "      <th>DTF_FixJPsiLambda_status</th>\n",
       "      <th>TYPE</th>\n",
       "      <th>DTF_FixJPsiLambda_Lb_M</th>\n",
       "    </tr>\n",
       "  </thead>\n",
       "  <tbody>\n",
       "    <tr>\n",
       "      <th>0</th>\n",
       "      <td>1499.261230</td>\n",
       "      <td>64090.687500</td>\n",
       "      <td>1449.125122</td>\n",
       "      <td>71109.312500</td>\n",
       "      <td>1339.061157</td>\n",
       "      <td>67585.578125</td>\n",
       "      <td>142.576462</td>\n",
       "      <td>16002.674805</td>\n",
       "      <td>222.223770</td>\n",
       "      <td>15295.935547</td>\n",
       "      <td>...</td>\n",
       "      <td>12.397956</td>\n",
       "      <td>1.006837</td>\n",
       "      <td>3.118125</td>\n",
       "      <td>4.247471</td>\n",
       "      <td>8394.141602</td>\n",
       "      <td>839.898499</td>\n",
       "      <td>0.0</td>\n",
       "      <td>0.0</td>\n",
       "      <td>1</td>\n",
       "      <td>5649.782715</td>\n",
       "    </tr>\n",
       "    <tr>\n",
       "      <th>1</th>\n",
       "      <td>6531.696777</td>\n",
       "      <td>43770.664062</td>\n",
       "      <td>7950.545410</td>\n",
       "      <td>53713.472656</td>\n",
       "      <td>7250.666016</td>\n",
       "      <td>48946.476562</td>\n",
       "      <td>1098.382568</td>\n",
       "      <td>7154.821289</td>\n",
       "      <td>1173.632935</td>\n",
       "      <td>7339.285645</td>\n",
       "      <td>...</td>\n",
       "      <td>72.018669</td>\n",
       "      <td>4.932845</td>\n",
       "      <td>9.285525</td>\n",
       "      <td>0.700478</td>\n",
       "      <td>316576.343750</td>\n",
       "      <td>28.328979</td>\n",
       "      <td>0.0</td>\n",
       "      <td>0.0</td>\n",
       "      <td>1</td>\n",
       "      <td>5346.287598</td>\n",
       "    </tr>\n",
       "    <tr>\n",
       "      <th>2</th>\n",
       "      <td>1195.592285</td>\n",
       "      <td>25513.001953</td>\n",
       "      <td>2846.242432</td>\n",
       "      <td>45061.835938</td>\n",
       "      <td>2590.605225</td>\n",
       "      <td>40850.550781</td>\n",
       "      <td>600.855042</td>\n",
       "      <td>6536.190430</td>\n",
       "      <td>531.966919</td>\n",
       "      <td>6502.588379</td>\n",
       "      <td>...</td>\n",
       "      <td>58.929020</td>\n",
       "      <td>38.498478</td>\n",
       "      <td>109.721619</td>\n",
       "      <td>0.822907</td>\n",
       "      <td>48769.886719</td>\n",
       "      <td>969.064880</td>\n",
       "      <td>0.0</td>\n",
       "      <td>0.0</td>\n",
       "      <td>1</td>\n",
       "      <td>5625.960449</td>\n",
       "    </tr>\n",
       "    <tr>\n",
       "      <th>3</th>\n",
       "      <td>8357.870117</td>\n",
       "      <td>48524.460938</td>\n",
       "      <td>13019.551758</td>\n",
       "      <td>77204.125000</td>\n",
       "      <td>10886.081055</td>\n",
       "      <td>65169.863281</td>\n",
       "      <td>954.039429</td>\n",
       "      <td>8363.340820</td>\n",
       "      <td>1251.309082</td>\n",
       "      <td>8721.902344</td>\n",
       "      <td>...</td>\n",
       "      <td>4.634126</td>\n",
       "      <td>2.500692</td>\n",
       "      <td>5.822659</td>\n",
       "      <td>0.760508</td>\n",
       "      <td>2613.000244</td>\n",
       "      <td>11152.960938</td>\n",
       "      <td>0.0</td>\n",
       "      <td>0.0</td>\n",
       "      <td>1</td>\n",
       "      <td>5480.049316</td>\n",
       "    </tr>\n",
       "    <tr>\n",
       "      <th>4</th>\n",
       "      <td>931.300659</td>\n",
       "      <td>24994.496094</td>\n",
       "      <td>1355.522217</td>\n",
       "      <td>32809.832031</td>\n",
       "      <td>1152.498901</td>\n",
       "      <td>30213.080078</td>\n",
       "      <td>812.275085</td>\n",
       "      <td>7415.243652</td>\n",
       "      <td>194.003128</td>\n",
       "      <td>7669.465332</td>\n",
       "      <td>...</td>\n",
       "      <td>2.344827</td>\n",
       "      <td>9.562636</td>\n",
       "      <td>28.231209</td>\n",
       "      <td>3.574740</td>\n",
       "      <td>1273.676514</td>\n",
       "      <td>22431.037109</td>\n",
       "      <td>0.0</td>\n",
       "      <td>1.0</td>\n",
       "      <td>1</td>\n",
       "      <td>5446.454102</td>\n",
       "    </tr>\n",
       "    <tr>\n",
       "      <th>...</th>\n",
       "      <td>...</td>\n",
       "      <td>...</td>\n",
       "      <td>...</td>\n",
       "      <td>...</td>\n",
       "      <td>...</td>\n",
       "      <td>...</td>\n",
       "      <td>...</td>\n",
       "      <td>...</td>\n",
       "      <td>...</td>\n",
       "      <td>...</td>\n",
       "      <td>...</td>\n",
       "      <td>...</td>\n",
       "      <td>...</td>\n",
       "      <td>...</td>\n",
       "      <td>...</td>\n",
       "      <td>...</td>\n",
       "      <td>...</td>\n",
       "      <td>...</td>\n",
       "      <td>...</td>\n",
       "      <td>...</td>\n",
       "      <td>...</td>\n",
       "    </tr>\n",
       "    <tr>\n",
       "      <th>228493</th>\n",
       "      <td>1220.226567</td>\n",
       "      <td>72937.663691</td>\n",
       "      <td>1427.535278</td>\n",
       "      <td>85209.820312</td>\n",
       "      <td>1239.802612</td>\n",
       "      <td>67344.187500</td>\n",
       "      <td>1089.563873</td>\n",
       "      <td>38845.872752</td>\n",
       "      <td>961.556641</td>\n",
       "      <td>37909.199219</td>\n",
       "      <td>...</td>\n",
       "      <td>0.152025</td>\n",
       "      <td>0.212239</td>\n",
       "      <td>0.582464</td>\n",
       "      <td>8.037920</td>\n",
       "      <td>2371.744690</td>\n",
       "      <td>126.815938</td>\n",
       "      <td>0.0</td>\n",
       "      <td>1.0</td>\n",
       "      <td>0</td>\n",
       "      <td>6832.868652</td>\n",
       "    </tr>\n",
       "    <tr>\n",
       "      <th>228494</th>\n",
       "      <td>1083.955904</td>\n",
       "      <td>55949.470793</td>\n",
       "      <td>1105.869141</td>\n",
       "      <td>60395.519531</td>\n",
       "      <td>892.092041</td>\n",
       "      <td>48183.257812</td>\n",
       "      <td>450.382581</td>\n",
       "      <td>27721.281600</td>\n",
       "      <td>485.050476</td>\n",
       "      <td>26523.736328</td>\n",
       "      <td>...</td>\n",
       "      <td>0.300803</td>\n",
       "      <td>1.908871</td>\n",
       "      <td>0.620846</td>\n",
       "      <td>1.462356</td>\n",
       "      <td>74049.033084</td>\n",
       "      <td>19.377282</td>\n",
       "      <td>0.0</td>\n",
       "      <td>1.0</td>\n",
       "      <td>0</td>\n",
       "      <td>6612.175781</td>\n",
       "    </tr>\n",
       "    <tr>\n",
       "      <th>228495</th>\n",
       "      <td>567.501520</td>\n",
       "      <td>37682.446927</td>\n",
       "      <td>5925.211914</td>\n",
       "      <td>436724.312500</td>\n",
       "      <td>1658.590454</td>\n",
       "      <td>121800.218750</td>\n",
       "      <td>398.880250</td>\n",
       "      <td>12929.648726</td>\n",
       "      <td>275.511749</td>\n",
       "      <td>10452.941406</td>\n",
       "      <td>...</td>\n",
       "      <td>257.919474</td>\n",
       "      <td>67.560202</td>\n",
       "      <td>197.839502</td>\n",
       "      <td>175.666290</td>\n",
       "      <td>368006.797335</td>\n",
       "      <td>212.409329</td>\n",
       "      <td>0.0</td>\n",
       "      <td>1.0</td>\n",
       "      <td>0</td>\n",
       "      <td>8911.302734</td>\n",
       "    </tr>\n",
       "    <tr>\n",
       "      <th>228496</th>\n",
       "      <td>758.780272</td>\n",
       "      <td>33543.168911</td>\n",
       "      <td>941.613098</td>\n",
       "      <td>42739.785156</td>\n",
       "      <td>7304.916016</td>\n",
       "      <td>323111.187500</td>\n",
       "      <td>705.825113</td>\n",
       "      <td>29903.281153</td>\n",
       "      <td>768.507690</td>\n",
       "      <td>34001.078125</td>\n",
       "      <td>...</td>\n",
       "      <td>0.161039</td>\n",
       "      <td>2.624455</td>\n",
       "      <td>7.957362</td>\n",
       "      <td>99.010018</td>\n",
       "      <td>4205.262286</td>\n",
       "      <td>418.366858</td>\n",
       "      <td>0.0</td>\n",
       "      <td>1.0</td>\n",
       "      <td>0</td>\n",
       "      <td>9774.763672</td>\n",
       "    </tr>\n",
       "    <tr>\n",
       "      <th>228497</th>\n",
       "      <td>1160.947480</td>\n",
       "      <td>68685.929382</td>\n",
       "      <td>1196.397339</td>\n",
       "      <td>69924.765625</td>\n",
       "      <td>1313.134277</td>\n",
       "      <td>77080.726562</td>\n",
       "      <td>391.865552</td>\n",
       "      <td>24404.274061</td>\n",
       "      <td>410.577637</td>\n",
       "      <td>24734.687500</td>\n",
       "      <td>...</td>\n",
       "      <td>0.535994</td>\n",
       "      <td>0.376998</td>\n",
       "      <td>0.987998</td>\n",
       "      <td>1.870911</td>\n",
       "      <td>2257.082696</td>\n",
       "      <td>36.673281</td>\n",
       "      <td>0.0</td>\n",
       "      <td>0.0</td>\n",
       "      <td>0</td>\n",
       "      <td>6774.934082</td>\n",
       "    </tr>\n",
       "  </tbody>\n",
       "</table>\n",
       "<p>228498 rows × 29 columns</p>\n",
       "</div>"
      ],
      "text/plain": [
       "               p_PT          p_PZ  DTF_FixJPsi_p_PT  DTF_FixJPsi_p_PZ  \\\n",
       "0       1499.261230  64090.687500       1449.125122      71109.312500   \n",
       "1       6531.696777  43770.664062       7950.545410      53713.472656   \n",
       "2       1195.592285  25513.001953       2846.242432      45061.835938   \n",
       "3       8357.870117  48524.460938      13019.551758      77204.125000   \n",
       "4        931.300659  24994.496094       1355.522217      32809.832031   \n",
       "...             ...           ...               ...               ...   \n",
       "228493  1220.226567  72937.663691       1427.535278      85209.820312   \n",
       "228494  1083.955904  55949.470793       1105.869141      60395.519531   \n",
       "228495   567.501520  37682.446927       5925.211914     436724.312500   \n",
       "228496   758.780272  33543.168911        941.613098      42739.785156   \n",
       "228497  1160.947480  68685.929382       1196.397339      69924.765625   \n",
       "\n",
       "        DTF_FixJPsiLambda_p_PT  DTF_FixJPsiLambda_p_PZ       pim_PT  \\\n",
       "0                  1339.061157            67585.578125   142.576462   \n",
       "1                  7250.666016            48946.476562  1098.382568   \n",
       "2                  2590.605225            40850.550781   600.855042   \n",
       "3                 10886.081055            65169.863281   954.039429   \n",
       "4                  1152.498901            30213.080078   812.275085   \n",
       "...                        ...                     ...          ...   \n",
       "228493             1239.802612            67344.187500  1089.563873   \n",
       "228494              892.092041            48183.257812   450.382581   \n",
       "228495             1658.590454           121800.218750   398.880250   \n",
       "228496             7304.916016           323111.187500   705.825113   \n",
       "228497             1313.134277            77080.726562   391.865552   \n",
       "\n",
       "              pim_PZ  DTF_FixJPsi_pim_PT  DTF_FixJPsi_pim_PZ  ...  \\\n",
       "0       16002.674805          222.223770        15295.935547  ...   \n",
       "1        7154.821289         1173.632935         7339.285645  ...   \n",
       "2        6536.190430          531.966919         6502.588379  ...   \n",
       "3        8363.340820         1251.309082         8721.902344  ...   \n",
       "4        7415.243652          194.003128         7669.465332  ...   \n",
       "...              ...                 ...                 ...  ...   \n",
       "228493  38845.872752          961.556641        37909.199219  ...   \n",
       "228494  27721.281600          485.050476        26523.736328  ...   \n",
       "228495  12929.648726          275.511749        10452.941406  ...   \n",
       "228496  29903.281153          768.507690        34001.078125  ...   \n",
       "228497  24404.274061          410.577637        24734.687500  ...   \n",
       "\n",
       "        L_VFASPF_CHI2_VDOF  Lb_VFASPF_CHI2_VDOF  L_BPVIPCHI2  Lb_BPVIPCHI2  \\\n",
       "0                12.397956             1.006837     3.118125      4.247471   \n",
       "1                72.018669             4.932845     9.285525      0.700478   \n",
       "2                58.929020            38.498478   109.721619      0.822907   \n",
       "3                 4.634126             2.500692     5.822659      0.760508   \n",
       "4                 2.344827             9.562636    28.231209      3.574740   \n",
       "...                    ...                  ...          ...           ...   \n",
       "228493            0.152025             0.212239     0.582464      8.037920   \n",
       "228494            0.300803             1.908871     0.620846      1.462356   \n",
       "228495          257.919474            67.560202   197.839502    175.666290   \n",
       "228496            0.161039             2.624455     7.957362     99.010018   \n",
       "228497            0.535994             0.376998     0.987998      1.870911   \n",
       "\n",
       "          L_BPVVDCHI2  Lb_BPVVDCHI2  DTF_FixJPsi_status  \\\n",
       "0         8394.141602    839.898499                 0.0   \n",
       "1       316576.343750     28.328979                 0.0   \n",
       "2        48769.886719    969.064880                 0.0   \n",
       "3         2613.000244  11152.960938                 0.0   \n",
       "4         1273.676514  22431.037109                 0.0   \n",
       "...               ...           ...                 ...   \n",
       "228493    2371.744690    126.815938                 0.0   \n",
       "228494   74049.033084     19.377282                 0.0   \n",
       "228495  368006.797335    212.409329                 0.0   \n",
       "228496    4205.262286    418.366858                 0.0   \n",
       "228497    2257.082696     36.673281                 0.0   \n",
       "\n",
       "        DTF_FixJPsiLambda_status  TYPE  DTF_FixJPsiLambda_Lb_M  \n",
       "0                            0.0     1             5649.782715  \n",
       "1                            0.0     1             5346.287598  \n",
       "2                            0.0     1             5625.960449  \n",
       "3                            0.0     1             5480.049316  \n",
       "4                            1.0     1             5446.454102  \n",
       "...                          ...   ...                     ...  \n",
       "228493                       1.0     0             6832.868652  \n",
       "228494                       1.0     0             6612.175781  \n",
       "228495                       1.0     0             8911.302734  \n",
       "228496                       1.0     0             9774.763672  \n",
       "228497                       0.0     0             6774.934082  \n",
       "\n",
       "[228498 rows x 29 columns]"
      ]
     },
     "execution_count": 6,
     "metadata": {},
     "output_type": "execute_result"
    }
   ],
   "source": [
    "inputTrain = '~/classifier-studies/data/trainData.h5'\n",
    "df_train = pd.read_hdf(inputTrain, 'LHCb_Train')\n",
    "df_train"
   ]
  },
  {
   "cell_type": "code",
   "execution_count": 7,
   "id": "4cdb8f39",
   "metadata": {
    "scrolled": false
   },
   "outputs": [
    {
     "data": {
      "text/html": [
       "<div>\n",
       "<style scoped>\n",
       "    .dataframe tbody tr th:only-of-type {\n",
       "        vertical-align: middle;\n",
       "    }\n",
       "\n",
       "    .dataframe tbody tr th {\n",
       "        vertical-align: top;\n",
       "    }\n",
       "\n",
       "    .dataframe thead th {\n",
       "        text-align: right;\n",
       "    }\n",
       "</style>\n",
       "<table border=\"1\" class=\"dataframe\">\n",
       "  <thead>\n",
       "    <tr style=\"text-align: right;\">\n",
       "      <th></th>\n",
       "      <th>p_PT</th>\n",
       "      <th>p_PZ</th>\n",
       "      <th>DTF_FixJPsi_p_PT</th>\n",
       "      <th>DTF_FixJPsi_p_PZ</th>\n",
       "      <th>DTF_FixJPsiLambda_p_PT</th>\n",
       "      <th>DTF_FixJPsiLambda_p_PZ</th>\n",
       "      <th>pim_PT</th>\n",
       "      <th>pim_PZ</th>\n",
       "      <th>DTF_FixJPsi_pim_PT</th>\n",
       "      <th>DTF_FixJPsi_pim_PZ</th>\n",
       "      <th>...</th>\n",
       "      <th>L_VFASPF_CHI2_VDOF</th>\n",
       "      <th>Lb_VFASPF_CHI2_VDOF</th>\n",
       "      <th>L_BPVIPCHI2</th>\n",
       "      <th>Lb_BPVIPCHI2</th>\n",
       "      <th>L_BPVVDCHI2</th>\n",
       "      <th>Lb_BPVVDCHI2</th>\n",
       "      <th>DTF_FixJPsi_status</th>\n",
       "      <th>DTF_FixJPsiLambda_status</th>\n",
       "      <th>TYPE</th>\n",
       "      <th>DTF_FixJPsiLambda_Lb_M</th>\n",
       "    </tr>\n",
       "  </thead>\n",
       "  <tbody>\n",
       "    <tr>\n",
       "      <th>0</th>\n",
       "      <td>2504.376465</td>\n",
       "      <td>27455.556641</td>\n",
       "      <td>2435.769775</td>\n",
       "      <td>27417.642578</td>\n",
       "      <td>2798.346191</td>\n",
       "      <td>31182.896484</td>\n",
       "      <td>416.471710</td>\n",
       "      <td>5826.424316</td>\n",
       "      <td>492.247925</td>\n",
       "      <td>5925.514648</td>\n",
       "      <td>...</td>\n",
       "      <td>0.116805</td>\n",
       "      <td>0.334404</td>\n",
       "      <td>0.975463</td>\n",
       "      <td>2.368801</td>\n",
       "      <td>8.063968e+03</td>\n",
       "      <td>1031.350098</td>\n",
       "      <td>0.0</td>\n",
       "      <td>0.0</td>\n",
       "      <td>1</td>\n",
       "      <td>5678.738770</td>\n",
       "    </tr>\n",
       "    <tr>\n",
       "      <th>1</th>\n",
       "      <td>3678.204834</td>\n",
       "      <td>28957.984375</td>\n",
       "      <td>8009.698242</td>\n",
       "      <td>63035.414062</td>\n",
       "      <td>4010.383301</td>\n",
       "      <td>31700.259766</td>\n",
       "      <td>511.451996</td>\n",
       "      <td>4495.157227</td>\n",
       "      <td>606.036377</td>\n",
       "      <td>5295.169922</td>\n",
       "      <td>...</td>\n",
       "      <td>129.013321</td>\n",
       "      <td>2.213622</td>\n",
       "      <td>3.035450</td>\n",
       "      <td>4.987368</td>\n",
       "      <td>1.139099e+06</td>\n",
       "      <td>132.812775</td>\n",
       "      <td>0.0</td>\n",
       "      <td>0.0</td>\n",
       "      <td>1</td>\n",
       "      <td>5152.405273</td>\n",
       "    </tr>\n",
       "    <tr>\n",
       "      <th>2</th>\n",
       "      <td>6151.153320</td>\n",
       "      <td>62528.351562</td>\n",
       "      <td>3390.550049</td>\n",
       "      <td>34433.933594</td>\n",
       "      <td>3191.249023</td>\n",
       "      <td>32347.107422</td>\n",
       "      <td>908.855103</td>\n",
       "      <td>8341.050781</td>\n",
       "      <td>954.033325</td>\n",
       "      <td>8586.155273</td>\n",
       "      <td>...</td>\n",
       "      <td>3.052457</td>\n",
       "      <td>1.626008</td>\n",
       "      <td>3.995702</td>\n",
       "      <td>3.794894</td>\n",
       "      <td>5.994128e+05</td>\n",
       "      <td>1733.996338</td>\n",
       "      <td>0.0</td>\n",
       "      <td>0.0</td>\n",
       "      <td>1</td>\n",
       "      <td>5610.329102</td>\n",
       "    </tr>\n",
       "    <tr>\n",
       "      <th>3</th>\n",
       "      <td>2215.048828</td>\n",
       "      <td>16164.611328</td>\n",
       "      <td>3509.922363</td>\n",
       "      <td>25586.275391</td>\n",
       "      <td>3299.109375</td>\n",
       "      <td>24183.917969</td>\n",
       "      <td>1217.576172</td>\n",
       "      <td>8981.918945</td>\n",
       "      <td>1129.961060</td>\n",
       "      <td>8099.306641</td>\n",
       "      <td>...</td>\n",
       "      <td>3.684547</td>\n",
       "      <td>6.168911</td>\n",
       "      <td>7.633062</td>\n",
       "      <td>1.222096</td>\n",
       "      <td>6.435177e+03</td>\n",
       "      <td>1848.107422</td>\n",
       "      <td>0.0</td>\n",
       "      <td>0.0</td>\n",
       "      <td>1</td>\n",
       "      <td>5655.911133</td>\n",
       "    </tr>\n",
       "    <tr>\n",
       "      <th>4</th>\n",
       "      <td>1299.116333</td>\n",
       "      <td>50831.921875</td>\n",
       "      <td>1585.503662</td>\n",
       "      <td>49852.496094</td>\n",
       "      <td>1661.818237</td>\n",
       "      <td>48686.039062</td>\n",
       "      <td>1164.087158</td>\n",
       "      <td>16436.048828</td>\n",
       "      <td>707.395447</td>\n",
       "      <td>15532.739258</td>\n",
       "      <td>...</td>\n",
       "      <td>3.191066</td>\n",
       "      <td>0.135195</td>\n",
       "      <td>0.518211</td>\n",
       "      <td>1.912595</td>\n",
       "      <td>1.069037e+03</td>\n",
       "      <td>329.424927</td>\n",
       "      <td>0.0</td>\n",
       "      <td>1.0</td>\n",
       "      <td>1</td>\n",
       "      <td>5623.918457</td>\n",
       "    </tr>\n",
       "    <tr>\n",
       "      <th>...</th>\n",
       "      <td>...</td>\n",
       "      <td>...</td>\n",
       "      <td>...</td>\n",
       "      <td>...</td>\n",
       "      <td>...</td>\n",
       "      <td>...</td>\n",
       "      <td>...</td>\n",
       "      <td>...</td>\n",
       "      <td>...</td>\n",
       "      <td>...</td>\n",
       "      <td>...</td>\n",
       "      <td>...</td>\n",
       "      <td>...</td>\n",
       "      <td>...</td>\n",
       "      <td>...</td>\n",
       "      <td>...</td>\n",
       "      <td>...</td>\n",
       "      <td>...</td>\n",
       "      <td>...</td>\n",
       "      <td>...</td>\n",
       "      <td>...</td>\n",
       "    </tr>\n",
       "    <tr>\n",
       "      <th>25385</th>\n",
       "      <td>645.364567</td>\n",
       "      <td>14948.375359</td>\n",
       "      <td>658.586609</td>\n",
       "      <td>15131.017578</td>\n",
       "      <td>12712.377930</td>\n",
       "      <td>261919.109375</td>\n",
       "      <td>757.699363</td>\n",
       "      <td>17478.384328</td>\n",
       "      <td>759.258667</td>\n",
       "      <td>17625.787109</td>\n",
       "      <td>...</td>\n",
       "      <td>1.038850</td>\n",
       "      <td>0.812649</td>\n",
       "      <td>0.076899</td>\n",
       "      <td>11.266728</td>\n",
       "      <td>1.439183e+03</td>\n",
       "      <td>61.443946</td>\n",
       "      <td>0.0</td>\n",
       "      <td>3.0</td>\n",
       "      <td>0</td>\n",
       "      <td>10345.851562</td>\n",
       "    </tr>\n",
       "    <tr>\n",
       "      <th>25386</th>\n",
       "      <td>592.379896</td>\n",
       "      <td>28444.692313</td>\n",
       "      <td>920.779602</td>\n",
       "      <td>47065.058594</td>\n",
       "      <td>1599.084717</td>\n",
       "      <td>115516.109375</td>\n",
       "      <td>315.389950</td>\n",
       "      <td>22296.099434</td>\n",
       "      <td>180.996719</td>\n",
       "      <td>18559.517578</td>\n",
       "      <td>...</td>\n",
       "      <td>0.067244</td>\n",
       "      <td>21.352331</td>\n",
       "      <td>56.091567</td>\n",
       "      <td>94.749679</td>\n",
       "      <td>2.668843e+05</td>\n",
       "      <td>448.338019</td>\n",
       "      <td>0.0</td>\n",
       "      <td>3.0</td>\n",
       "      <td>0</td>\n",
       "      <td>11415.735352</td>\n",
       "    </tr>\n",
       "    <tr>\n",
       "      <th>25387</th>\n",
       "      <td>636.473898</td>\n",
       "      <td>27506.147195</td>\n",
       "      <td>505.863983</td>\n",
       "      <td>20288.097656</td>\n",
       "      <td>7521.579102</td>\n",
       "      <td>311244.218750</td>\n",
       "      <td>799.192766</td>\n",
       "      <td>31655.233084</td>\n",
       "      <td>711.814575</td>\n",
       "      <td>28853.048828</td>\n",
       "      <td>...</td>\n",
       "      <td>2.411407</td>\n",
       "      <td>2.617817</td>\n",
       "      <td>1.098988</td>\n",
       "      <td>24.841964</td>\n",
       "      <td>1.060404e+04</td>\n",
       "      <td>59949.689634</td>\n",
       "      <td>0.0</td>\n",
       "      <td>3.0</td>\n",
       "      <td>0</td>\n",
       "      <td>18485.015625</td>\n",
       "    </tr>\n",
       "    <tr>\n",
       "      <th>25388</th>\n",
       "      <td>681.055386</td>\n",
       "      <td>28981.688872</td>\n",
       "      <td>581.269653</td>\n",
       "      <td>24546.640625</td>\n",
       "      <td>986.649902</td>\n",
       "      <td>44888.769531</td>\n",
       "      <td>643.814391</td>\n",
       "      <td>28848.166781</td>\n",
       "      <td>1090.433594</td>\n",
       "      <td>46704.347656</td>\n",
       "      <td>...</td>\n",
       "      <td>0.841319</td>\n",
       "      <td>14.690842</td>\n",
       "      <td>32.489640</td>\n",
       "      <td>125.641237</td>\n",
       "      <td>1.039346e+06</td>\n",
       "      <td>1235.642132</td>\n",
       "      <td>0.0</td>\n",
       "      <td>1.0</td>\n",
       "      <td>0</td>\n",
       "      <td>8497.440430</td>\n",
       "    </tr>\n",
       "    <tr>\n",
       "      <th>25389</th>\n",
       "      <td>741.133970</td>\n",
       "      <td>33296.502714</td>\n",
       "      <td>745.363770</td>\n",
       "      <td>32231.593750</td>\n",
       "      <td>722.068359</td>\n",
       "      <td>31432.570312</td>\n",
       "      <td>120.358189</td>\n",
       "      <td>8404.448233</td>\n",
       "      <td>99.817291</td>\n",
       "      <td>8257.730469</td>\n",
       "      <td>...</td>\n",
       "      <td>63.715556</td>\n",
       "      <td>2.293373</td>\n",
       "      <td>6.258422</td>\n",
       "      <td>1.998849</td>\n",
       "      <td>5.003915e+06</td>\n",
       "      <td>226.853320</td>\n",
       "      <td>0.0</td>\n",
       "      <td>0.0</td>\n",
       "      <td>0</td>\n",
       "      <td>6436.845703</td>\n",
       "    </tr>\n",
       "  </tbody>\n",
       "</table>\n",
       "<p>25390 rows × 29 columns</p>\n",
       "</div>"
      ],
      "text/plain": [
       "              p_PT          p_PZ  DTF_FixJPsi_p_PT  DTF_FixJPsi_p_PZ  \\\n",
       "0      2504.376465  27455.556641       2435.769775      27417.642578   \n",
       "1      3678.204834  28957.984375       8009.698242      63035.414062   \n",
       "2      6151.153320  62528.351562       3390.550049      34433.933594   \n",
       "3      2215.048828  16164.611328       3509.922363      25586.275391   \n",
       "4      1299.116333  50831.921875       1585.503662      49852.496094   \n",
       "...            ...           ...               ...               ...   \n",
       "25385   645.364567  14948.375359        658.586609      15131.017578   \n",
       "25386   592.379896  28444.692313        920.779602      47065.058594   \n",
       "25387   636.473898  27506.147195        505.863983      20288.097656   \n",
       "25388   681.055386  28981.688872        581.269653      24546.640625   \n",
       "25389   741.133970  33296.502714        745.363770      32231.593750   \n",
       "\n",
       "       DTF_FixJPsiLambda_p_PT  DTF_FixJPsiLambda_p_PZ       pim_PT  \\\n",
       "0                 2798.346191            31182.896484   416.471710   \n",
       "1                 4010.383301            31700.259766   511.451996   \n",
       "2                 3191.249023            32347.107422   908.855103   \n",
       "3                 3299.109375            24183.917969  1217.576172   \n",
       "4                 1661.818237            48686.039062  1164.087158   \n",
       "...                       ...                     ...          ...   \n",
       "25385            12712.377930           261919.109375   757.699363   \n",
       "25386             1599.084717           115516.109375   315.389950   \n",
       "25387             7521.579102           311244.218750   799.192766   \n",
       "25388              986.649902            44888.769531   643.814391   \n",
       "25389              722.068359            31432.570312   120.358189   \n",
       "\n",
       "             pim_PZ  DTF_FixJPsi_pim_PT  DTF_FixJPsi_pim_PZ  ...  \\\n",
       "0       5826.424316          492.247925         5925.514648  ...   \n",
       "1       4495.157227          606.036377         5295.169922  ...   \n",
       "2       8341.050781          954.033325         8586.155273  ...   \n",
       "3       8981.918945         1129.961060         8099.306641  ...   \n",
       "4      16436.048828          707.395447        15532.739258  ...   \n",
       "...             ...                 ...                 ...  ...   \n",
       "25385  17478.384328          759.258667        17625.787109  ...   \n",
       "25386  22296.099434          180.996719        18559.517578  ...   \n",
       "25387  31655.233084          711.814575        28853.048828  ...   \n",
       "25388  28848.166781         1090.433594        46704.347656  ...   \n",
       "25389   8404.448233           99.817291         8257.730469  ...   \n",
       "\n",
       "       L_VFASPF_CHI2_VDOF  Lb_VFASPF_CHI2_VDOF  L_BPVIPCHI2  Lb_BPVIPCHI2  \\\n",
       "0                0.116805             0.334404     0.975463      2.368801   \n",
       "1              129.013321             2.213622     3.035450      4.987368   \n",
       "2                3.052457             1.626008     3.995702      3.794894   \n",
       "3                3.684547             6.168911     7.633062      1.222096   \n",
       "4                3.191066             0.135195     0.518211      1.912595   \n",
       "...                   ...                  ...          ...           ...   \n",
       "25385            1.038850             0.812649     0.076899     11.266728   \n",
       "25386            0.067244            21.352331    56.091567     94.749679   \n",
       "25387            2.411407             2.617817     1.098988     24.841964   \n",
       "25388            0.841319            14.690842    32.489640    125.641237   \n",
       "25389           63.715556             2.293373     6.258422      1.998849   \n",
       "\n",
       "        L_BPVVDCHI2  Lb_BPVVDCHI2  DTF_FixJPsi_status  \\\n",
       "0      8.063968e+03   1031.350098                 0.0   \n",
       "1      1.139099e+06    132.812775                 0.0   \n",
       "2      5.994128e+05   1733.996338                 0.0   \n",
       "3      6.435177e+03   1848.107422                 0.0   \n",
       "4      1.069037e+03    329.424927                 0.0   \n",
       "...             ...           ...                 ...   \n",
       "25385  1.439183e+03     61.443946                 0.0   \n",
       "25386  2.668843e+05    448.338019                 0.0   \n",
       "25387  1.060404e+04  59949.689634                 0.0   \n",
       "25388  1.039346e+06   1235.642132                 0.0   \n",
       "25389  5.003915e+06    226.853320                 0.0   \n",
       "\n",
       "       DTF_FixJPsiLambda_status  TYPE  DTF_FixJPsiLambda_Lb_M  \n",
       "0                           0.0     1             5678.738770  \n",
       "1                           0.0     1             5152.405273  \n",
       "2                           0.0     1             5610.329102  \n",
       "3                           0.0     1             5655.911133  \n",
       "4                           1.0     1             5623.918457  \n",
       "...                         ...   ...                     ...  \n",
       "25385                       3.0     0            10345.851562  \n",
       "25386                       3.0     0            11415.735352  \n",
       "25387                       3.0     0            18485.015625  \n",
       "25388                       1.0     0             8497.440430  \n",
       "25389                       0.0     0             6436.845703  \n",
       "\n",
       "[25390 rows x 29 columns]"
      ]
     },
     "execution_count": 7,
     "metadata": {},
     "output_type": "execute_result"
    }
   ],
   "source": [
    "inputTest = '~/classifier-studies/data/testData.h5'\n",
    "df_test = pd.read_hdf(inputTest, 'LHCb_Test')\n",
    "df_test"
   ]
  },
  {
   "cell_type": "markdown",
   "id": "6f530bb0",
   "metadata": {},
   "source": [
    "# Train the classifier"
   ]
  },
  {
   "cell_type": "code",
   "execution_count": 8,
   "id": "170ea068",
   "metadata": {},
   "outputs": [],
   "source": [
    "if daughterMomenta == 'VF':\n",
    "    pMomenta = ['p_PT', 'p_PZ']\n",
    "    pimMomenta = ['pim_PT', 'pim_PZ']\n",
    "elif daughterMomenta == 'DTF':\n",
    "    pMomenta = ['DTF_FixJPsi_p_PT', 'DTF_FixJPsi_p_PZ']\n",
    "    pimMomenta = ['DTF_FixJPsi_pim_PT', 'DTF_FixJPsi_pim_PZ']\n",
    "elif daughterMomenta == 'DTFL':\n",
    "    pMomenta = ['DTF_FixJPsiLambda_p_PT', 'DTF_FixJPsiLambda_p_PZ']\n",
    "    pimMomenta = ['DTF_FixJPsiLambda_pim_PT', 'DTF_FixJPsiLambda_pim_PZ']\n",
    "elif daughterMomenta == 'NO':\n",
    "    pMomenta = []\n",
    "    pimMomenta = []\n",
    "else:\n",
    "    raise ValueError(daughterMomenta + \" is not a valid option for momenta usage.\")"
   ]
  },
  {
   "cell_type": "code",
   "execution_count": 9,
   "id": "d6663496",
   "metadata": {},
   "outputs": [],
   "source": [
    "fixedFeatures = [\n",
    "    'Jpsi_PT',\n",
    "    'Jpsi_PZ',\n",
    "    'L_ENDVERTEX_X',\n",
    "    'L_ENDVERTEX_Y',\n",
    "    'L_ENDVERTEX_Z',\n",
    "    'L_BPVDIRA',\n",
    "    'Lb_BPVDIRA',\n",
    "    'L_VFASPF_CHI2_VDOF',\n",
    "    'Lb_VFASPF_CHI2_VDOF',\n",
    "    'L_BPVIPCHI2',\n",
    "    'Lb_BPVIPCHI2',\n",
    "    'L_BPVVDCHI2',\n",
    "    'Lb_BPVVDCHI2',\n",
    "    'DTF_FixJPsi_status',\n",
    "    'DTF_FixJPsiLambda_status'\n",
    "]"
   ]
  },
  {
   "cell_type": "code",
   "execution_count": 10,
   "id": "367430ca",
   "metadata": {},
   "outputs": [],
   "source": [
    "features = pMomenta + pimMomenta + fixedFeatures"
   ]
  },
  {
   "cell_type": "code",
   "execution_count": 11,
   "id": "94d53efe",
   "metadata": {},
   "outputs": [],
   "source": [
    "X_train = df_train.loc[:, features].to_numpy()\n",
    "Y_train = df_train.loc[:, 'TYPE'].to_numpy()\n",
    "\n",
    "X_test = df_test.loc[:, features].to_numpy()\n",
    "Y_test = df_test.loc[:, 'TYPE'].to_numpy()"
   ]
  },
  {
   "cell_type": "code",
   "execution_count": 12,
   "id": "860c7e50",
   "metadata": {},
   "outputs": [
    {
     "name": "stdout",
     "output_type": "stream",
     "text": [
      "BDT trained in 0.7610 minutes.\n",
      "BDT saved in 0.0108 seconds.\n"
     ]
    }
   ],
   "source": [
    "savedStatePath = savedStateDirectory + '/' + fileNamePattern + '.joblib'\n",
    "\n",
    "if load_existing:\n",
    "    tickBDTImport = time.perf_counter()\n",
    "    BDT = joblib.load(savedStatePath)\n",
    "    tockBDTImport = time.perf_counter()\n",
    "    print(f\"BDT imported in {(tockBDTImport - tickBDTImport):0.4f} seconds.\")\n",
    "else:\n",
    "    BDT = ensemble.GradientBoostingClassifier(**parameters)\n",
    "    \n",
    "    tickBDT = time.perf_counter()\n",
    "    BDT.fit(X_train, Y_train)\n",
    "    tockBDT = time.perf_counter()\n",
    "    print(f\"BDT trained in {(tockBDT - tickBDT)/60:0.4f} minutes.\")\n",
    "    \n",
    "    if save_model:\n",
    "        tickSave = time.perf_counter()\n",
    "        joblib.dump(BDT, savedStatePath)\n",
    "        tockSave = time.perf_counter()\n",
    "        print(f\"BDT saved in {(tockSave - tickSave):0.4f} seconds.\")"
   ]
  },
  {
   "cell_type": "markdown",
   "id": "71122af7",
   "metadata": {},
   "source": [
    "# BDT results\n",
    "## Predict the events"
   ]
  },
  {
   "cell_type": "code",
   "execution_count": 13,
   "id": "59e9c249",
   "metadata": {},
   "outputs": [],
   "source": [
    "Y_train_predicted = BDT.predict(X_train)\n",
    "Y_test_predicted = BDT.predict(X_test)\n",
    "\n",
    "## predict_proba returns a NumberOfEvents * NumberOfClasses matrix\n",
    "## The way we have defined it, the second column is the probability of class 1 (i.e. signal)\n",
    "## Therefore we get that one\n",
    "Y_train_proba_predicted = BDT.predict_proba(X_train)[:,1]\n",
    "Y_test_proba_predicted = BDT.predict_proba(X_test)[:,1]"
   ]
  },
  {
   "cell_type": "markdown",
   "id": "ac293893",
   "metadata": {},
   "source": [
    "## Confusion matrices"
   ]
  },
  {
   "cell_type": "code",
   "execution_count": 14,
   "id": "f2dd2ddf",
   "metadata": {},
   "outputs": [],
   "source": [
    "confusionMatrix_Train = metrics.confusion_matrix(Y_train,Y_train_predicted)\n",
    "confusionMatrix_Train = confusionMatrix_Train/np.sum(confusionMatrix_Train)\n",
    "\n",
    "confusionMatrix_Test = metrics.confusion_matrix(Y_test,Y_test_predicted)\n",
    "confusionMatrix_Test = confusionMatrix_Test/np.sum(confusionMatrix_Test)"
   ]
  },
  {
   "cell_type": "code",
   "execution_count": 15,
   "id": "6506ba46",
   "metadata": {},
   "outputs": [
    {
     "data": {
      "image/png": "[encoded data removed]",
      "text/plain": [
       "<Figure size 432x288 with 2 Axes>"
      ]
     },
     "metadata": {
      "needs_background": "light"
     },
     "output_type": "display_data"
    }
   ],
   "source": [
    "plt.imshow(confusionMatrix_Train, cmap='bone_r')\n",
    "ax = plt.gca()\n",
    "plt.colorbar(label='Fraction of events')\n",
    "plt.clim(0,1)\n",
    "ax.xaxis.set(ticks=(0, 1), ticklabels=('Predicted bkg', 'Predicted signal'))\n",
    "ax.yaxis.set(ticks=(0, 1), ticklabels=('Actual bkg', 'Actual signal'))\n",
    "plt.text(0, 1, \"{:.2%}\".format(confusionMatrix_Train[1, 0]), ha='center', va='center', color='k')\n",
    "plt.text(0, 0, \"{:.2%}\".format(confusionMatrix_Train[0, 0]), ha='center', va='center', color='w')\n",
    "plt.text(1, 0, \"{:.2%}\".format(confusionMatrix_Train[0, 1]), ha='center', va='center', color='k')\n",
    "plt.text(1, 1, \"{:.2%}\".format(confusionMatrix_Train[1, 1]), ha='center', va='center', color='k')\n",
    "plt.title(\"Predicted vs. actual classes (training set)\")\n",
    "plt.show()"
   ]
  },
  {
   "cell_type": "code",
   "execution_count": 16,
   "id": "2929784e",
   "metadata": {},
   "outputs": [
    {
     "data": {
      "image/png": "[encoded data removed]",
      "text/plain": [
       "<Figure size 432x288 with 2 Axes>"
      ]
     },
     "metadata": {
      "needs_background": "light"
     },
     "output_type": "display_data"
    }
   ],
   "source": [
    "plt.imshow(confusionMatrix_Test, cmap='RdPu')\n",
    "ax = plt.gca()\n",
    "plt.colorbar(label='Fraction of events')\n",
    "plt.clim(0,1)\n",
    "ax.xaxis.set(ticks=(0, 1), ticklabels=('Predicted bkg', 'Predicted signal'))\n",
    "ax.yaxis.set(ticks=(0, 1), ticklabels=('Actual bkg', 'Actual signal'))\n",
    "plt.text(0, 1, \"{:.2%}\".format(confusionMatrix_Test[1, 0]), ha='center', va='center', color='k')\n",
    "plt.text(0, 0, \"{:.2%}\".format(confusionMatrix_Test[0, 0]), ha='center', va='center', color='w')\n",
    "plt.text(1, 0, \"{:.2%}\".format(confusionMatrix_Test[0, 1]), ha='center', va='center', color='k')\n",
    "plt.text(1, 1, \"{:.2%}\".format(confusionMatrix_Test[1, 1]), ha='center', va='center', color='k')\n",
    "plt.title(\"Predicted vs. actual classes (test set)\")\n",
    "plt.show()"
   ]
  },
  {
   "cell_type": "markdown",
   "id": "0e21b71e",
   "metadata": {},
   "source": [
    "## Classification reports"
   ]
  },
  {
   "cell_type": "code",
   "execution_count": 17,
   "id": "bddafa52",
   "metadata": {},
   "outputs": [
    {
     "name": "stdout",
     "output_type": "stream",
     "text": [
      "TRAIN\n",
      "              precision    recall  f1-score   support\n",
      "\n",
      "           0       0.96      0.97      0.96    155849\n",
      "           1       0.93      0.92      0.92     72649\n",
      "\n",
      "    accuracy                           0.95    228498\n",
      "   macro avg       0.94      0.94      0.94    228498\n",
      "weighted avg       0.95      0.95      0.95    228498\n",
      "\n",
      "The average precision score on training data is: 0.9755\n",
      "------------------------------------------------------\n",
      "TEST\n",
      "              precision    recall  f1-score   support\n",
      "\n",
      "           0       0.96      0.96      0.96     17317\n",
      "           1       0.92      0.91      0.91      8073\n",
      "\n",
      "    accuracy                           0.95     25390\n",
      "   macro avg       0.94      0.94      0.94     25390\n",
      "weighted avg       0.95      0.95      0.95     25390\n",
      "\n",
      "The average precision score on test data is: 0.9723\n"
     ]
    }
   ],
   "source": [
    "print(\"TRAIN\")\n",
    "print(metrics.classification_report(Y_train, Y_train_predicted))\n",
    "print(f'The average precision score on training data is: {metrics.average_precision_score(Y_train, Y_train_proba_predicted):.4f}')\n",
    "print(\"------------------------------------------------------\")\n",
    "print(\"TEST\")\n",
    "print(metrics.classification_report(Y_test, Y_test_predicted))\n",
    "print(f'The average precision score on test data is: {metrics.average_precision_score(Y_test, Y_test_proba_predicted):.4f}')"
   ]
  },
  {
   "cell_type": "markdown",
   "id": "5036c883",
   "metadata": {},
   "source": [
    "## ROC curve"
   ]
  },
  {
   "cell_type": "code",
   "execution_count": 18,
   "id": "ad65f8d6",
   "metadata": {},
   "outputs": [],
   "source": [
    "falsePositiveRates_Train, truePositiveRates_Train, thresholds_Trrain = metrics.roc_curve(Y_train, Y_train_proba_predicted)\n",
    "areaUnderCurve_Train = metrics.roc_auc_score(Y_train, Y_train_proba_predicted)\n",
    "\n",
    "falsePositiveRates_Test, truePositiveRates_Test, thresholds_Test = metrics.roc_curve(Y_test, Y_test_proba_predicted)\n",
    "areaUnderCurve_Test = metrics.roc_auc_score(Y_test, Y_test_proba_predicted)"
   ]
  },
  {
   "cell_type": "code",
   "execution_count": 19,
   "id": "582a0bd6",
   "metadata": {},
   "outputs": [
    {
     "data": {
      "image/png": "[encoded data removed]",
      "text/plain": [
       "<Figure size 432x288 with 1 Axes>"
      ]
     },
     "metadata": {
      "needs_background": "light"
     },
     "output_type": "display_data"
    },
    {
     "data": {
      "image/png": "[encoded data removed]",
      "text/plain": [
       "<Figure size 432x288 with 1 Axes>"
      ]
     },
     "metadata": {
      "needs_background": "light"
     },
     "output_type": "display_data"
    }
   ],
   "source": [
    "plt.plot(falsePositiveRates_Train, truePositiveRates_Train,\n",
    "         label=f'AUC = {areaUnderCurve_Train:.4f}',\n",
    "         color='royalblue')\n",
    "plt.grid()\n",
    "plt.legend()\n",
    "plt.xlabel('False positive rate')\n",
    "plt.ylabel('True positive rate')\n",
    "plt.title(\"BDT receiver operating characteristic (training set)\")\n",
    "plt.show()\n",
    "\n",
    "plt.plot(falsePositiveRates_Test, truePositiveRates_Test, label=f'AUC = {areaUnderCurve_Test:.4f}', color='fuchsia')\n",
    "plt.grid()\n",
    "plt.legend()\n",
    "plt.xlabel('False positive rate')\n",
    "plt.ylabel('True positive rate')\n",
    "plt.title(\"BDT receiver operating characteristic (test set)\")\n",
    "plt.show()"
   ]
  },
  {
   "cell_type": "markdown",
   "id": "182c24b8",
   "metadata": {},
   "source": [
    "## Precision-recall curve"
   ]
  },
  {
   "cell_type": "code",
   "execution_count": 20,
   "id": "08995d0b",
   "metadata": {},
   "outputs": [],
   "source": [
    "precisions_Train, recalls_Train, PRC_Thresholds_Train = metrics.precision_recall_curve(Y_train, Y_train_proba_predicted)\n",
    "precisions_Test, recalls_Test, PRC_Thresholds_Test = metrics.precision_recall_curve(Y_test, Y_test_proba_predicted)"
   ]
  },
  {
   "cell_type": "code",
   "execution_count": 21,
   "id": "aba44e8e",
   "metadata": {},
   "outputs": [
    {
     "data": {
      "image/png": "[encoded data removed]",
      "text/plain": [
       "<Figure size 432x288 with 1 Axes>"
      ]
     },
     "metadata": {
      "needs_background": "light"
     },
     "output_type": "display_data"
    },
    {
     "data": {
      "image/png": "[encoded data removed]",
      "text/plain": [
       "<Figure size 432x288 with 1 Axes>"
      ]
     },
     "metadata": {
      "needs_background": "light"
     },
     "output_type": "display_data"
    }
   ],
   "source": [
    "plt.plot(precisions_Train, recalls_Train, color='royalblue')\n",
    "plt.grid()\n",
    "plt.xlabel('Precision')\n",
    "plt.ylabel('Recall')\n",
    "plt.title(\"BDT precision-recall curve (training set)\")\n",
    "plt.show()\n",
    "\n",
    "plt.plot(precisions_Test, recalls_Test, color='fuchsia')\n",
    "plt.grid()\n",
    "plt.xlabel('Precision')\n",
    "plt.ylabel('Recall')\n",
    "plt.title(\"BDT precision-recall curve (test set)\")\n",
    "plt.show()"
   ]
  },
  {
   "cell_type": "markdown",
   "id": "121da48a",
   "metadata": {},
   "source": [
    "## Response distribution"
   ]
  },
  {
   "cell_type": "code",
   "execution_count": 22,
   "id": "89dc5c8d",
   "metadata": {},
   "outputs": [],
   "source": [
    "df_model_response_train = pd.DataFrame({'predicted' : Y_train_proba_predicted, 'class' : Y_train, 'dataset': 'train'})\n",
    "df_model_response_test = pd.DataFrame({'predicted' : Y_test_proba_predicted, 'class' : Y_test, 'dataset': 'test'})\n",
    "df_model_response = pd.concat([df_model_response_train, df_model_response_test], ignore_index=True)"
   ]
  },
  {
   "cell_type": "code",
   "execution_count": 23,
   "id": "0178e09a",
   "metadata": {},
   "outputs": [
    {
     "data": {
      "image/png": "[encoded data removed]",
      "text/plain": [
       "<Figure size 432x288 with 1 Axes>"
      ]
     },
     "metadata": {
      "needs_background": "light"
     },
     "output_type": "display_data"
    }
   ],
   "source": [
    "plt.hist(\n",
    "    df_model_response[(df_model_response['dataset'] == 'train') & (df_model_response['class'] == 1)]['predicted'],\n",
    "    label='Signal',\n",
    "    bins=100,\n",
    "    range=(0,1),\n",
    "    fc=mcolors.to_rgba('lightblue', alpha=0.2),\n",
    "    edgecolor='royalblue',\n",
    "    histtype= \"stepfilled\",\n",
    "    density=True\n",
    ")\n",
    "\n",
    "plt.hist(\n",
    "    df_model_response[(df_model_response['dataset'] == 'train') & (df_model_response['class'] == 0)]['predicted'],\n",
    "    label='Background',\n",
    "    bins=100,\n",
    "    range=(0,1),\n",
    "    fc=mcolors.to_rgba('navajowhite', alpha=0.2),\n",
    "    histtype= \"stepfilled\",\n",
    "    density=True,\n",
    "    edgecolor='tab:orange',\n",
    ")\n",
    "\n",
    "plt.yscale('log')\n",
    "plt.legend()\n",
    "plt.grid()\n",
    "plt.title(\"Training dataset\")\n",
    "plt.ylabel(\"Probability density\")\n",
    "plt.xlabel(\"BDT response\")\n",
    "plt.show()"
   ]
  },
  {
   "cell_type": "code",
   "execution_count": 24,
   "id": "f8550c6d",
   "metadata": {},
   "outputs": [
    {
     "data": {
      "image/png": "[encoded data removed]",
      "text/plain": [
       "<Figure size 432x288 with 1 Axes>"
      ]
     },
     "metadata": {
      "needs_background": "light"
     },
     "output_type": "display_data"
    }
   ],
   "source": [
    "plt.hist(\n",
    "    df_model_response[(df_model_response['dataset'] == 'test') & (df_model_response['class'] == 1)]['predicted'],\n",
    "    label='Signal',\n",
    "    bins=100,\n",
    "    range=(0,1),\n",
    "    fc=mcolors.to_rgba('lightblue', alpha=0.2),\n",
    "    edgecolor='royalblue',\n",
    "    histtype= \"stepfilled\",\n",
    "    density=True\n",
    ")\n",
    "\n",
    "plt.hist(\n",
    "    df_model_response[(df_model_response['dataset'] == 'test') & (df_model_response['class'] == 0)]['predicted'],\n",
    "    label='Background',\n",
    "    bins=100,\n",
    "    range=(0,1),\n",
    "    fc=mcolors.to_rgba('navajowhite', alpha=0.2),\n",
    "    histtype= \"stepfilled\",\n",
    "    density=True,\n",
    "    edgecolor='tab:orange',\n",
    ")\n",
    "\n",
    "plt.yscale('log')\n",
    "plt.legend()\n",
    "plt.grid()\n",
    "plt.title(\"Test dataset\")\n",
    "plt.ylabel(\"Probability density\")\n",
    "plt.xlabel(\"BDT response\")\n",
    "plt.show()"
   ]
  },
  {
   "cell_type": "code",
   "execution_count": 25,
   "id": "2098e2a3",
   "metadata": {},
   "outputs": [
    {
     "data": {
      "image/png": "[encoded data removed]",
      "text/plain": [
       "<Figure size 432x288 with 1 Axes>"
      ]
     },
     "metadata": {
      "needs_background": "light"
     },
     "output_type": "display_data"
    }
   ],
   "source": [
    "plt.hist(\n",
    "    df_model_response[(df_model_response['dataset'] == 'train') & (df_model_response['class'] == 1)]['predicted'],\n",
    "    label='Train',\n",
    "    bins=100,\n",
    "    range=(0,1),\n",
    "    color=mcolors.to_rgba('lightcoral', alpha=0.1),\n",
    "    edgecolor='red',\n",
    "    histtype= \"stepfilled\",\n",
    "    density=True\n",
    ")\n",
    "\n",
    "plt.hist(\n",
    "    df_model_response[(df_model_response['dataset'] == 'test') & (df_model_response['class'] == 1)]['predicted'],\n",
    "    label='Test',\n",
    "    bins=100,\n",
    "    range=(0,1),\n",
    "    color=mcolors.to_rgba('palegreen', alpha=0.1),\n",
    "    edgecolor='green',\n",
    "    histtype= \"stepfilled\",\n",
    "    density=True\n",
    ")\n",
    "\n",
    "plt.yscale('log')\n",
    "plt.legend(loc=(0.05,0.8))\n",
    "plt.grid()\n",
    "plt.title(\"Signal\")\n",
    "plt.ylabel(\"Probability density\")\n",
    "plt.xlabel(\"BDT response\")\n",
    "plt.show()"
   ]
  },
  {
   "cell_type": "code",
   "execution_count": 26,
   "id": "285f25e7",
   "metadata": {},
   "outputs": [
    {
     "data": {
      "image/png": "[encoded data removed]",
      "text/plain": [
       "<Figure size 432x288 with 1 Axes>"
      ]
     },
     "metadata": {
      "needs_background": "light"
     },
     "output_type": "display_data"
    }
   ],
   "source": [
    "plt.hist(\n",
    "    df_model_response[(df_model_response['dataset'] == 'train') & (df_model_response['class'] == 0)]['predicted'],\n",
    "    label='Train',\n",
    "    bins=100,\n",
    "    range=(0,1),\n",
    "    color=mcolors.to_rgba('lightcoral', alpha=0.1),\n",
    "    edgecolor='red',\n",
    "    histtype= \"stepfilled\",\n",
    "    density=True\n",
    ")\n",
    "\n",
    "plt.hist(\n",
    "    df_model_response[(df_model_response['dataset'] == 'test') & (df_model_response['class'] == 0)]['predicted'],\n",
    "    label='Test',\n",
    "    bins=100,\n",
    "    range=(0,1),\n",
    "    color=mcolors.to_rgba('palegreen', alpha=0.1),\n",
    "    edgecolor='green',\n",
    "    histtype= \"stepfilled\",\n",
    "    density=True\n",
    ")\n",
    "\n",
    "plt.yscale('log')\n",
    "plt.grid()\n",
    "plt.legend()\n",
    "plt.title(\"Background\")\n",
    "plt.ylabel(\"Probability density\")\n",
    "plt.xlabel(\"BDT response\")\n",
    "plt.show()"
   ]
  },
  {
   "cell_type": "code",
   "execution_count": 27,
   "id": "0e7754b7",
   "metadata": {},
   "outputs": [
    {
     "data": {
      "image/png": "[encoded data removed]",
      "text/plain": [
       "<Figure size 432x288 with 1 Axes>"
      ]
     },
     "metadata": {
      "needs_background": "light"
     },
     "output_type": "display_data"
    }
   ],
   "source": [
    "plt.hist(\n",
    "    df_model_response[(df_model_response['dataset'] == 'train') & (df_model_response['class'] == 1)]['predicted'],\n",
    "    label='Signal',\n",
    "    bins=100,\n",
    "    range=(0,1),\n",
    "    fc=mcolors.to_rgba('lightblue', alpha=0.2),\n",
    "    edgecolor='royalblue',\n",
    "    histtype= \"stepfilled\",\n",
    "    density=True,\n",
    "    cumulative=True\n",
    ")\n",
    "\n",
    "plt.hist(\n",
    "    df_model_response[(df_model_response['dataset'] == 'train') & (df_model_response['class'] == 0)]['predicted'],\n",
    "    label='Background',\n",
    "    bins=100,\n",
    "    range=(0,1),\n",
    "    fc=mcolors.to_rgba('navajowhite', alpha=0.2),\n",
    "    histtype= \"stepfilled\",\n",
    "    density=True,\n",
    "    edgecolor='tab:orange',\n",
    "    cumulative=True\n",
    ")\n",
    "\n",
    "plt.legend()\n",
    "plt.grid()\n",
    "plt.title(\"Training dataset\")\n",
    "plt.ylabel(\"Probability density\")\n",
    "plt.xlabel(\"BDT response\")\n",
    "plt.show()"
   ]
  },
  {
   "cell_type": "code",
   "execution_count": 28,
   "id": "d9a6c5fc",
   "metadata": {},
   "outputs": [
    {
     "data": {
      "image/png": "[encoded data removed]",
      "text/plain": [
       "<Figure size 432x288 with 1 Axes>"
      ]
     },
     "metadata": {
      "needs_background": "light"
     },
     "output_type": "display_data"
    }
   ],
   "source": [
    "plt.hist(\n",
    "    df_model_response[(df_model_response['dataset'] == 'test') & (df_model_response['class'] == 1)]['predicted'],\n",
    "    label='Signal',\n",
    "    bins=100,\n",
    "    range=(0,1),\n",
    "    fc=mcolors.to_rgba('lightblue', alpha=0.2),\n",
    "    edgecolor='royalblue',\n",
    "    histtype= \"stepfilled\",\n",
    "    density=True,\n",
    "    cumulative=True\n",
    ")\n",
    "\n",
    "plt.hist(\n",
    "    df_model_response[(df_model_response['dataset'] == 'test') & (df_model_response['class'] == 0)]['predicted'],\n",
    "    label='Background',\n",
    "    bins=100,\n",
    "    range=(0,1),\n",
    "    fc=mcolors.to_rgba('navajowhite', alpha=0.2),\n",
    "    histtype= \"stepfilled\",\n",
    "    density=True,\n",
    "    edgecolor='tab:orange',\n",
    "    cumulative=True\n",
    ")\n",
    "\n",
    "plt.legend()\n",
    "plt.grid()\n",
    "plt.title(\"Test dataset\")\n",
    "plt.ylabel(\"Probability density\")\n",
    "plt.xlabel(\"BDT response\")\n",
    "plt.show()"
   ]
  },
  {
   "cell_type": "markdown",
   "id": "6ade853b",
   "metadata": {},
   "source": [
    "## Kolmogorov-Smirnov test\n",
    "### Signal (train vs. test)"
   ]
  },
  {
   "cell_type": "code",
   "execution_count": 29,
   "id": "86c2657c",
   "metadata": {},
   "outputs": [
    {
     "data": {
      "text/plain": [
       "KstestResult(statistic=0.011278025811275905, pvalue=0.3114324509588666)"
      ]
     },
     "execution_count": 29,
     "metadata": {},
     "output_type": "execute_result"
    }
   ],
   "source": [
    "stats.kstest(\n",
    "    df_model_response[(df_model_response['dataset'] == 'train') & (df_model_response['class'] == 1)]['predicted'],\n",
    "    df_model_response[(df_model_response['dataset'] == 'test') & (df_model_response['class'] == 1)]['predicted']\n",
    ")"
   ]
  },
  {
   "cell_type": "markdown",
   "id": "1aa9ddf2",
   "metadata": {},
   "source": [
    "### Background (train vs. test)"
   ]
  },
  {
   "cell_type": "code",
   "execution_count": 30,
   "id": "be87f902",
   "metadata": {},
   "outputs": [
    {
     "data": {
      "text/plain": [
       "KstestResult(statistic=0.006860020848838744, pvalue=0.4536430043120274)"
      ]
     },
     "execution_count": 30,
     "metadata": {},
     "output_type": "execute_result"
    }
   ],
   "source": [
    "stats.kstest(\n",
    "    df_model_response[(df_model_response['dataset'] == 'train') & (df_model_response['class'] == 0)]['predicted'],\n",
    "    df_model_response[(df_model_response['dataset'] == 'test') & (df_model_response['class'] == 0)]['predicted']\n",
    ")"
   ]
  },
  {
   "cell_type": "markdown",
   "id": "3d2e4dde",
   "metadata": {},
   "source": [
    "## Feature importances"
   ]
  },
  {
   "cell_type": "code",
   "execution_count": 31,
   "id": "14023cd5",
   "metadata": {},
   "outputs": [],
   "source": [
    "## Input is the full output of sklearn.inspection.permutation_importance\n",
    "## for training and testing data. Output is a dataframe containing\n",
    "## importance mean and error for each feature. Mean is given by sklearn,\n",
    "## error is computed as standard deviation divided by the square root of\n",
    "## the number of times importanes were computed (i.e. n_repeats).\n",
    "def importancesToDataFrame(trainImportancesOutput, testImportancesOutput):\n",
    "    dataList=[]\n",
    "    dataList.append(trainImportancesOutput['importances_mean'])\n",
    "    dataList.append(trainImportancesOutput['importances_std']/np.sqrt(trainImportancesOutput['importances'].shape[1]))\n",
    "    dataList.append(testImportancesOutput['importances_mean'])\n",
    "    dataList.append(testImportancesOutput['importances_std']/np.sqrt(testImportancesOutput['importances'].shape[1]))\n",
    "    \n",
    "    indexList = ['train_mean', 'train_error', 'test_mean', 'test_error']\n",
    "    return pd.DataFrame(dataList, index=indexList, columns=features)"
   ]
  },
  {
   "cell_type": "code",
   "execution_count": 32,
   "id": "5e7f24da",
   "metadata": {},
   "outputs": [
    {
     "name": "stdout",
     "output_type": "stream",
     "text": [
      "Importances computed in 0.4333 minutes.\n"
     ]
    }
   ],
   "source": [
    "if compute_importances:\n",
    "    importanceTick = time.perf_counter()\n",
    "    train_importances = inspection.permutation_importance(\n",
    "        BDT,\n",
    "        X_train,\n",
    "        Y_train,\n",
    "        scoring='average_precision',\n",
    "        n_repeats=10,\n",
    "        random_state=2021,\n",
    "        n_jobs=10\n",
    "    )\n",
    "\n",
    "    test_importances = inspection.permutation_importance(\n",
    "        BDT,\n",
    "        X_test,\n",
    "        Y_test,\n",
    "        scoring='average_precision',\n",
    "        n_repeats=10,\n",
    "        random_state=2021,\n",
    "        n_jobs=10\n",
    "    )\n",
    "    importanceTock = time.perf_counter()\n",
    "    print(f\"Importances computed in {(importanceTock - importanceTick)/60:0.4f} minutes.\")\n",
    "    \n",
    "    df_importance = importancesToDataFrame(train_importances, test_importances)\n",
    "    df_importance.to_csv(savedStateDirectory + '/' + fileNamePattern + '.csv')\n",
    "else:\n",
    "    df_importance = pd.read_csv(savedStateDirectory + '/' + fileNamePattern + '.csv', index_col=0)"
   ]
  },
  {
   "cell_type": "code",
   "execution_count": 33,
   "id": "6ae85699",
   "metadata": {},
   "outputs": [],
   "source": [
    "featureLabels = {\n",
    "    'p_PT': '$p_T(p)$',\n",
    "    'DTF_FixJPsi_p_PT': '$p_T^{DTF}(p)$',\n",
    "    'DTF_FixJPsiLambda_p_PT': '$p_T^{DTF}(p)$ ($\\Lambda$ m.c.)',\n",
    "    'p_PZ': '$p_z(p)$',\n",
    "    'DTF_FixJPsi_p_PZ': '$p_z^{DTF}(p)$',\n",
    "    'DTF_FixJPsiLambda_p_PZ': '$p_z^{DTF}(p)$ ($\\Lambda$ m.c.)',\n",
    "    'pim_PT': '$p_T(\\pi)$',\n",
    "    'DTF_FixJPsi_pim_PT': '$p_T^{DTF}(\\pi)$',\n",
    "    'DTF_FixJPsiLambda_pim_PT': '$p_T^{DTF}(\\pi)$ ($\\Lambda$ m.c.)',\n",
    "    'pim_PZ': '$p_z(\\pi)$',\n",
    "    'DTF_FixJPsi_pim_PZ': '$p_z^{DTF}(\\pi)$',\n",
    "    'DTF_FixJPsiLambda_pim_PZ': '$p_Z^{DTF}(\\pi)$ ($\\Lambda$ m.c.)',\n",
    "    'Jpsi_PT': '$p_T(J/\\psi)$',\n",
    "    'Jpsi_PZ': '$p_z(J/\\psi)$',\n",
    "    'L_ENDVERTEX_X': '$x_{vtx}^\\Lambda$',\n",
    "    'L_ENDVERTEX_Y': '$y_{vtx}^\\Lambda$',\n",
    "    'L_ENDVERTEX_Z': '$z_{vtx}^\\Lambda$',\n",
    "    'L_BPVDIRA': '$\\Lambda$ DIRA',\n",
    "    'Lb_BPVDIRA': '$\\Lambda_b$ DIRA',\n",
    "    'L_VFASPF_CHI2_VDOF': '$\\chi^2_{vtx}(\\Lambda)$',\n",
    "    'Lb_VFASPF_CHI2_VDOF': '$\\chi^2_{vtx}(\\Lambda_b)$',\n",
    "    'L_BPVIPCHI2': '$\\Lambda$ IPCHI2',\n",
    "    'Lb_BPVIPCHI2': '$\\Lambda_b$ IPCHI2',\n",
    "    'L_BPVVDCHI2': '$\\Lambda$ VDCHI2',\n",
    "    'Lb_BPVVDCHI2': '$\\Lambda_b$ VDCHI2',\n",
    "    'DTF_FixJPsi_status': 'DTF status',\n",
    "    'DTF_FixJPsiLambda_status': 'DTF status ($\\Lambda$ m.c.)'\n",
    "}"
   ]
  },
  {
   "cell_type": "code",
   "execution_count": 34,
   "id": "ff62be82",
   "metadata": {
    "scrolled": false
   },
   "outputs": [
    {
     "data": {
      "image/png": "[encoded data removed]",
      "text/plain": [
       "<Figure size 640x480 with 1 Axes>"
      ]
     },
     "metadata": {
      "needs_background": "light"
     },
     "output_type": "display_data"
    }
   ],
   "source": [
    "## Index: where we plot the bars\n",
    "## bar_width: smaller so we can fit both training and test data\n",
    "index = np.arange(len(features))\n",
    "bar_width=0.4\n",
    "\n",
    "plt.figure(figsize=(8, 6), dpi=80)\n",
    "\n",
    "plt.barh(\n",
    "    index,\n",
    "    df_importance.loc['train_mean'],\n",
    "    bar_width,\n",
    "    xerr=df_importance.loc['train_error'],\n",
    "    label='Training data',\n",
    "    color='royalblue'\n",
    ")\n",
    "\n",
    "## Plot test data shifted by bar_width so it appears above test data\n",
    "plt.barh(\n",
    "    index+bar_width,\n",
    "    df_importance.loc['test_mean'],\n",
    "    bar_width,\n",
    "    xerr=df_importance.loc['test_error'],\n",
    "    label='Test data',\n",
    "    color='darkorange'\n",
    ")\n",
    "\n",
    "plt.legend()\n",
    "plt.title(\"Features importances\")\n",
    "plt.xlabel(\"Importance\")\n",
    "\n",
    "## Manually set labels position and text, since we used the index\n",
    "ax = plt.gca()\n",
    "ax.set_yticks(index + bar_width / 2)\n",
    "ax.set_yticklabels([featureLabels[feature] for feature in features])\n",
    "\n",
    "plt.grid()\n",
    "plt.gca().invert_yaxis()\n",
    "plt.show()"
   ]
  },
  {
   "cell_type": "markdown",
   "id": "a3e79558",
   "metadata": {},
   "source": [
    "# Output for BDT performance analyzer"
   ]
  },
  {
   "cell_type": "code",
   "execution_count": 35,
   "id": "e50f6974",
   "metadata": {},
   "outputs": [],
   "source": [
    "train_TN, train_FP, train_FN, train_TP = confusionMatrix_Train.flatten()\n",
    "test_TN, test_FP, test_FN, test_TP = confusionMatrix_Test.flatten()\n",
    "\n",
    "stat_sig, p_sig = stats.kstest(\n",
    "    df_model_response[(df_model_response['dataset'] == 'train') & (df_model_response['class'] == 1)]['predicted'],\n",
    "    df_model_response[(df_model_response['dataset'] == 'test') & (df_model_response['class'] == 1)]['predicted']\n",
    ")\n",
    "\n",
    "stat_bkg, p_bkg = stats.kstest(\n",
    "    df_model_response[(df_model_response['dataset'] == 'train') & (df_model_response['class'] == 0)]['predicted'],\n",
    "    df_model_response[(df_model_response['dataset'] == 'test') & (df_model_response['class'] == 0)]['predicted']\n",
    ")"
   ]
  },
  {
   "cell_type": "code",
   "execution_count": 36,
   "id": "7a796e9f",
   "metadata": {},
   "outputs": [],
   "source": [
    "performanceList = [\n",
    "    [train_TN, train_FP, train_FN, train_TP, areaUnderCurve_Train, metrics.average_precision_score(Y_train, Y_train_proba_predicted)],\n",
    "    [test_TN, test_FP, test_FN, test_TP, areaUnderCurve_Test, metrics.average_precision_score(Y_test, Y_test_proba_predicted)],\n",
    "    p_sig,\n",
    "    p_bkg\n",
    "]"
   ]
  },
  {
   "cell_type": "markdown",
   "id": "168bc459",
   "metadata": {},
   "source": [
    "This is already in the preferred format for the analyzer."
   ]
  },
  {
   "cell_type": "code",
   "execution_count": 37,
   "id": "40215222",
   "metadata": {},
   "outputs": [
    {
     "name": "stdout",
     "output_type": "stream",
     "text": [
      "[[0.6593318103440731, 0.022726675944647216, 0.026936778440073875, 0.29100473527120585, 0.9880650720881631, 0.9755415872571885], [0.6577786530129972, 0.024261520283576213, 0.02949980307207562, 0.2884600236313509, 0.9866017016391992, 0.9723033154590903], 0.3114324509588666, 0.4536430043120274]\n"
     ]
    }
   ],
   "source": [
    "print(performanceList)"
   ]
  }
 ],
 "metadata": {
  "kernelspec": {
   "display_name": "Python 3",
   "language": "python",
   "name": "python3"
  },
  "language_info": {
   "codemirror_mode": {
    "name": "ipython",
    "version": 3
   },
   "file_extension": ".py",
   "mimetype": "text/x-python",
   "name": "python",
   "nbconvert_exporter": "python",
   "pygments_lexer": "ipython3",
   "version": "3.6.8"
  }
 },
 "nbformat": 4,
 "nbformat_minor": 5
}
